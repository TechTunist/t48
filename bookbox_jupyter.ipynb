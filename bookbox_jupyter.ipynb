{
 "cells": [
  {
   "cell_type": "code",
   "execution_count": 1,
   "metadata": {},
   "outputs": [],
   "source": [
    "import sqlite3 # database\n",
    "import spacy # NLP for processing user input and comparing against database"
   ]
  },
  {
   "cell_type": "code",
   "execution_count": 2,
   "metadata": {},
   "outputs": [],
   "source": [
    "db = sqlite3.connect('bookbox_jupyter_db')"
   ]
  },
  {
   "cell_type": "code",
   "execution_count": 3,
   "metadata": {},
   "outputs": [],
   "source": [
    "cursor = db.cursor()"
   ]
  },
  {
   "cell_type": "code",
   "execution_count": 4,
   "metadata": {},
   "outputs": [
    {
     "ename": "OperationalError",
     "evalue": "table books already exists",
     "output_type": "error",
     "traceback": [
      "\u001b[1;31m---------------------------------------------------------------------------\u001b[0m",
      "\u001b[1;31mOperationalError\u001b[0m                          Traceback (most recent call last)",
      "\u001b[1;32m<ipython-input-4-edb902772d40>\u001b[0m in \u001b[0;36m<module>\u001b[1;34m\u001b[0m\n\u001b[0;32m      1\u001b[0m \u001b[1;31m# create database\u001b[0m\u001b[1;33m\u001b[0m\u001b[1;33m\u001b[0m\u001b[1;33m\u001b[0m\u001b[0m\n\u001b[1;32m----> 2\u001b[1;33m cursor.execute('''\n\u001b[0m\u001b[0;32m      3\u001b[0m     CREATE TABLE books(id INTEGER PRIMARY KEY, title CHAR(30), author CHAR(30),\n\u001b[0;32m      4\u001b[0m                    qty INTEGER(5))\n\u001b[0;32m      5\u001b[0m ''')\n",
      "\u001b[1;31mOperationalError\u001b[0m: table books already exists"
     ]
    }
   ],
   "source": [
    "# create database\n",
    "cursor.execute('''\n",
    "    CREATE TABLE books(id INTEGER PRIMARY KEY, title CHAR(30), author CHAR(30),\n",
    "                   qty INTEGER(5))\n",
    "''')\n",
    "db.commit()"
   ]
  },
  {
   "cell_type": "code",
   "execution_count": 4,
   "metadata": {},
   "outputs": [
    {
     "name": "stdout",
     "output_type": "stream",
     "text": [
      "First book inserted\n"
     ]
    }
   ],
   "source": [
    "id1 = 3001\n",
    "title1 = 'A Tale of Two Cities'\n",
    "author1 = 'Charles Dickens'\n",
    "qty1 = 30\n",
    "\n",
    "# Insert book 1\n",
    "cursor.execute('''INSERT INTO books(id, title, author, qty)\n",
    "                  VALUES(?,?,?,?)''', (id1, title1, author1, qty1))\n",
    "print('First book inserted')"
   ]
  },
  {
   "cell_type": "code",
   "execution_count": 5,
   "metadata": {},
   "outputs": [],
   "source": [
    "# check database\n",
    "cursor.execute('''SELECT * FROM books''')\n",
    "books = cursor.fetchall()"
   ]
  },
  {
   "cell_type": "code",
   "execution_count": 6,
   "metadata": {},
   "outputs": [
    {
     "name": "stdout",
     "output_type": "stream",
     "text": [
      "[(3001, 'A Tale of Two Cities', 'Charles Dickens', 30)]\n"
     ]
    }
   ],
   "source": [
    "print(books)"
   ]
  },
  {
   "cell_type": "code",
   "execution_count": 7,
   "metadata": {},
   "outputs": [
    {
     "name": "stdout",
     "output_type": "stream",
     "text": [
      "Second book inserted\n"
     ]
    }
   ],
   "source": [
    "id2 = 3002\n",
    "title2 = \"Harry Potter and the Philospher's Stone\"\n",
    "author2 = 'J.K. Rowling'\n",
    "qty2 = 40\n",
    "\n",
    "# Insert book 2\n",
    "cursor.execute('''INSERT INTO books(id, title, author, qty)\n",
    "                  VALUES(?,?,?,?)''', (id2, title2, author2, qty2))\n",
    "print('Second book inserted')"
   ]
  },
  {
   "cell_type": "code",
   "execution_count": 8,
   "metadata": {},
   "outputs": [
    {
     "name": "stdout",
     "output_type": "stream",
     "text": [
      "Third book inserted\n"
     ]
    }
   ],
   "source": [
    "id3 = 3003\n",
    "title3 = \"The Lion, the Witch and the Wardrobe\"\n",
    "author3 = 'C.S. Lewis'\n",
    "qty3 = 25\n",
    "\n",
    "# Insert book 2\n",
    "cursor.execute('''INSERT INTO books(id, title, author, qty)\n",
    "                  VALUES(?,?,?,?)''', (id3, title3, author3, qty3))\n",
    "print('Third book inserted')"
   ]
  },
  {
   "cell_type": "code",
   "execution_count": 9,
   "metadata": {
    "scrolled": true
   },
   "outputs": [
    {
     "name": "stdout",
     "output_type": "stream",
     "text": [
      "Fourth book inserted\n"
     ]
    }
   ],
   "source": [
    "id4 = 3004\n",
    "title4 = \"The Lord of the Rings\"\n",
    "author4 = 'J.J.R Tolkein'\n",
    "qty4 = 37\n",
    "\n",
    "# Insert book 2\n",
    "cursor.execute('''INSERT INTO books(id, title, author, qty)\n",
    "                  VALUES(?,?,?,?)''', (id4, title4, author4, qty4))\n",
    "print('Fourth book inserted')"
   ]
  },
  {
   "cell_type": "code",
   "execution_count": 10,
   "metadata": {},
   "outputs": [
    {
     "name": "stdout",
     "output_type": "stream",
     "text": [
      "Fifth book inserted\n"
     ]
    }
   ],
   "source": [
    "id5 = 3005\n",
    "title5 = \"Alice in Wonderland\"\n",
    "author5 = 'Lewis Carrol'\n",
    "qty5 = 12\n",
    "\n",
    "# Insert book 2\n",
    "cursor.execute('''INSERT INTO books(id, title, author, qty)\n",
    "                  VALUES(?,?,?,?)''', (id5, title5, author5, qty5))\n",
    "print('Fifth book inserted')"
   ]
  },
  {
   "cell_type": "code",
   "execution_count": 11,
   "metadata": {},
   "outputs": [
    {
     "name": "stdout",
     "output_type": "stream",
     "text": [
      "[(3001, 'A Tale of Two Cities', 'Charles Dickens', 30), (3002, \"Harry Potter and the Philospher's Stone\", 'J.K. Rowling', 40), (3003, 'The Lion, the Witch and the Wardrobe', 'C.S. Lewis', 25), (3004, 'The Lord of the Rings', 'J.J.R Tolkein', 37), (3005, 'Alice in Wonderland', 'Lewis Carrol', 12)]\n"
     ]
    }
   ],
   "source": [
    "# select all records\n",
    "cursor.execute(\n",
    "    '''SELECT * FROM books''')\n",
    "books = cursor.fetchall()\n",
    "print(books)"
   ]
  },
  {
   "cell_type": "code",
   "execution_count": 12,
   "metadata": {},
   "outputs": [
    {
     "name": "stdout",
     "output_type": "stream",
     "text": [
      "3005\n"
     ]
    }
   ],
   "source": [
    "# get the max id so it can be incremented by one for each new book\n",
    "# the query returns a tuple (3001,) so select the first element which is the id number (int)\n",
    "max_id = cursor.execute('''SELECT MAX(id) FROM books''').fetchone()[0]\n",
    "print(max_id)"
   ]
  },
  {
   "cell_type": "code",
   "execution_count": 13,
   "metadata": {},
   "outputs": [
    {
     "name": "stdout",
     "output_type": "stream",
     "text": [
      "\n",
      "Enter the title of the book you wish to enter into the database: \n",
      "Programming for Dummies\n",
      "\n",
      "Enter the name of the author: \n",
      "Guido van Rossum\n",
      "\n",
      "Enter the number of copies of the book we have in stock: \n",
      "69\n",
      "\n",
      "New book inserted\n"
     ]
    }
   ],
   "source": [
    "# create INSERT INTO functionality\n",
    "# increment id field (primary key) by one\n",
    "\n",
    "# function takes the current max id as input\n",
    "def add_book(max_id):\n",
    "    max_id += 1\n",
    "\n",
    "    title = input(\"\\nEnter the title of the book you wish to enter into the database: \\n\")\n",
    "    author = input(\"\\nEnter the name of the author: \\n\")\n",
    "\n",
    "    try:\n",
    "        qty = int(input(\"\\nEnter the number of copies of the book we have in stock: \\n\"))\n",
    "    except ValueError:\n",
    "        print(\"\\nENTRY FAILED\\n\\nRemember that the number of copies has to be an integer!\\n\\n\")\n",
    "        \n",
    "        return\n",
    "\n",
    "    # Insert book into database\n",
    "    cursor.execute('''INSERT INTO books(id, title, author, qty)\n",
    "                      VALUES(?,?,?,?)''', (max_id, title, author, qty))\n",
    "\n",
    "    print('\\nNew book inserted')\n",
    "\n",
    "add_book(max_id)"
   ]
  },
  {
   "cell_type": "code",
   "execution_count": 14,
   "metadata": {},
   "outputs": [
    {
     "name": "stdout",
     "output_type": "stream",
     "text": [
      "How would you like to select a book to update?\n",
      "\n",
      "        1 - select by id\n",
      "        2 - select by title\n",
      "        3 - select by author\n",
      "        0 - exit\n",
      "0\n"
     ]
    }
   ],
   "source": [
    "# function to update a book\n",
    "# search book to update by id, title or author\n",
    "# can only update qty tho\n",
    "\n",
    "selection = ''\n",
    "while selection != '0':\n",
    "    # choose how to search for a book\n",
    "    selection = input(\n",
    "        \"\"\"How would you like to select a book to update?\\n\n",
    "        1 - select by id\n",
    "        2 - select by title\n",
    "        3 - select by author\n",
    "        0 - exit\\n\"\"\")\n",
    "    \n",
    "    if selection == '1':\n",
    "        \n",
    "        # get the min and max id's to let user know bounds of search\n",
    "        # get the max id so it can be incremented by one for each new book\n",
    "        max_id = cursor.execute('''SELECT MAX(id) FROM books''').fetchone()[0]\n",
    "        min_id = cursor.execute('''SELECT MIN(id) FROM books''').fetchone()[0]\n",
    "        print(f\"You have to choose an id number between {min_id} and {max_id}\")\n",
    "        \n",
    "        book_id = input(\"\\nEnter the id of the book you wish to edit: \\n\")\n",
    "        \n",
    "        while book_id < min_id or book_id > max_id:\n",
    "            print(\"\\nINPUT NOT WITHIN BOUNDS\\n\")\n",
    "            book_id = input(\"\\nEnter the id of the book you wish to edit: \\n\")\n",
    "            \n",
    "    elif selection == '2':\n",
    "        pass\n",
    "    elif selection == '3':\n",
    "        pass\n",
    "    elif selection == '0':\n",
    "        break\n",
    "    else:\n",
    "        print(\"\\n\\nSelection not recognised\\n\")\n",
    "\n",
    "\n",
    "# cursor.execute('''UPDATE student SET grade = ? WHERE id = ? ''', (grade, id))\n",
    "# print('Student data updated!')"
   ]
  },
  {
   "cell_type": "code",
   "execution_count": null,
   "metadata": {},
   "outputs": [
    {
     "name": "stdout",
     "output_type": "stream",
     "text": [
      "Choose your search parameter: \n",
      "\n",
      "        1 - select by id\n",
      "        2 - select by title\n",
      "        3 - select by author\n",
      "        4 - show all books\n",
      "        0 - exit\n",
      "1\n",
      "\n",
      "You have to choose an id number between 3001 and 3006\n",
      "\n",
      "Enter the id of the book you wish to edit: \n",
      "2\n",
      "\n",
      "INPUT NOT WITHIN BOUNDS\n",
      "\n",
      "\n",
      "You have to choose an id number between 3001 and 3006\n",
      "\n",
      "\n",
      "Enter the id of the book you wish to edit: \n",
      "3001\n",
      "\n",
      "    ID:\t\t3001\n",
      "    TITLE:\tA Tale of Two Cities\n",
      "    AUTHOR:\tCharles Dickens\n",
      "    QUNTITY:\t30\n",
      "Choose your search parameter: \n",
      "\n",
      "        1 - select by id\n",
      "        2 - select by title\n",
      "        3 - select by author\n",
      "        4 - show all books\n",
      "        0 - exit\n",
      "2\n",
      "\n",
      "Enter the title of the book: \n",
      "alice in wonderlnan\n"
     ]
    },
    {
     "name": "stderr",
     "output_type": "stream",
     "text": [
      "<ipython-input-38-1af8e539380e>:19: UserWarning: [W007] The model you're using has no word vectors loaded, so the result of the Doc.similarity method will be based on the tagger, parser and NER, which may not give useful similarity judgements. This may happen if you're using one of the small models, e.g. `en_core_web_sm`, which don't ship with word vectors and only use context-sensitive tensors. You can always add your own word vectors, or use one of the larger models instead if available.\n",
      "  similarity = nlp(term).similarity(model_search_term)\n"
     ]
    },
    {
     "name": "stdout",
     "output_type": "stream",
     "text": [
      "Alice in Wonderland\n",
      "\n",
      "    ID:\t\t3005\n",
      "    TITLE:\tAlice in Wonderland\n",
      "    AUTHOR:\tLewis Carrol\n",
      "    QUNTITY:\t12\n"
     ]
    }
   ],
   "source": [
    "# create search function\n",
    "# def search():\n",
    "selection = ''\n",
    "\n",
    "while selection != '0':\n",
    "    # choose how to search for a book\n",
    "    selection = input(\n",
    "        \"\"\"Choose your search parameter: \\n\n",
    "        1 - select by id\n",
    "        2 - select by title\n",
    "        3 - select by author\n",
    "        4 - show all books\n",
    "        0 - exit\\n\"\"\")\n",
    "\n",
    "    if selection == '1':\n",
    "\n",
    "        # get the min and max id's to let user know bounds of search\n",
    "        # get the max id so it can be incremented by one for each new book\n",
    "        max_id = cursor.execute('''SELECT MAX(id) FROM books''').fetchone()[0]\n",
    "        min_id = cursor.execute('''SELECT MIN(id) FROM books''').fetchone()[0]\n",
    "        print(f\"\\nYou have to choose an id number between {min_id} and {max_id}\")\n",
    "\n",
    "        # get selection of id from the user\n",
    "        book_id = input(\"\\nEnter the id of the book you wish to edit: \\n\")\n",
    "\n",
    "        # check input within acceptable parameters\n",
    "        while int(book_id) < min_id or int(book_id) > max_id:\n",
    "            print(\"\\nINPUT NOT WITHIN BOUNDS\\n\")\n",
    "            print(f\"\\nYou have to choose an id number between {min_id} and {max_id}\\n\")\n",
    "            book_id = input(\"\\nEnter the id of the book you wish to edit: \\n\")\n",
    "\n",
    "            if book_id == '0':\n",
    "                break\n",
    "\n",
    "        # get the book record with the chosen id\n",
    "        result = cursor.execute(\n",
    "            f\"\"\"\n",
    "            SELECT * FROM books WHERE id = ?\"\"\", (book_id,)).fetchone()\n",
    "\n",
    "        # print the result of the query\n",
    "        parse_record(result)\n",
    "\n",
    "#         return result\n",
    "\n",
    "\n",
    "    elif selection == '2':\n",
    "        book_title = input(\"\\nEnter the title of the book: \\n\")\n",
    "        # use NLP to check similarity between a book title given by user and book titles in the database\n",
    "\n",
    "#             # initiate the language model as nlp\n",
    "#             nlp = spacy.load('en_core_web_sm')\n",
    "\n",
    "        # compare the user given book_title to all the titles in the database\n",
    "        all_titles_tuples = cursor.execute(\n",
    "            \"\"\"\n",
    "            SELECT title FROM books\"\"\").fetchall() # list of tuples - [(name,), (next_name,),...]\n",
    "\n",
    "\n",
    "        # call the predict function\n",
    "        suggested = predict(all_titles_tuples, book_title)\n",
    "\n",
    "        # make query and store the result\n",
    "        result = cursor.execute(\n",
    "            f\"\"\"\n",
    "            SELECT * FROM books WHERE title = ?\"\"\", (suggested,)).fetchone()\n",
    "\n",
    "        parse_record(result)\n",
    "\n",
    "#         return result\n",
    "\n",
    "\n",
    "\n",
    "    elif selection == '3':\n",
    "        pass\n",
    "    elif selection == '0':\n",
    "        print(\"\\nExiting search\\n\")\n",
    "    else:\n",
    "        print(\"\\n\\nSelection not recognised\\n\")\n",
    "\n",
    "    "
   ]
  },
  {
   "cell_type": "code",
   "execution_count": 34,
   "metadata": {},
   "outputs": [],
   "source": [
    "# helper function to format database queries that return entire records in this format - (id, title, author, quantity)\n",
    "def parse_record(tuple_record):\n",
    "    \n",
    "    print(f\"\"\"\n",
    "    ID:\\t\\t{str(tuple_record[0])}\n",
    "    TITLE:\\t{tuple_record[1]}\n",
    "    AUTHOR:\\t{tuple_record[2]}\n",
    "    QUNTITY:\\t{str(tuple_record[3])}\"\"\")\n",
    "    "
   ]
  },
  {
   "cell_type": "code",
   "execution_count": 38,
   "metadata": {},
   "outputs": [],
   "source": [
    "# helper function to use NLP to predict intended search result\n",
    "# EXAMPLE query = cursor.execute(\"\"\"SELECT title FROM books\"\"\").fetchall()\n",
    "def predict(query_result, search_term):\n",
    "    \n",
    "    # initiate the language model as nlp\n",
    "            nlp = spacy.load('en_core_web_sm')\n",
    "\n",
    "            # create a list of titles\n",
    "            query_list = [i[0] for i in query_result]\n",
    "\n",
    "            # create a dictionary to store titles and scores as key / value pairs\n",
    "            score = {}\n",
    "\n",
    "            # prepare user book_title to compare to returned titles\n",
    "            model_search_term = nlp(search_term)\n",
    "\n",
    "            # loop through all titles and return the most similar\n",
    "            for term in query_list:\n",
    "                similarity = nlp(term).similarity(model_search_term)\n",
    "                # print(title + \" \", similarity)\n",
    "\n",
    "                # add the title and its similarity score to dictionary\n",
    "                score[term] = similarity\n",
    "\n",
    "            # return the title with the highest similarity score to pass to the SQL query\n",
    "            suggested = max(score, key=score.get)\n",
    "            print(suggested)\n",
    "            \n",
    "            return suggested"
   ]
  },
  {
   "cell_type": "code",
   "execution_count": null,
   "metadata": {},
   "outputs": [],
   "source": []
  }
 ],
 "metadata": {
  "kernelspec": {
   "display_name": "Python 3",
   "language": "python",
   "name": "python3"
  },
  "language_info": {
   "codemirror_mode": {
    "name": "ipython",
    "version": 3
   },
   "file_extension": ".py",
   "mimetype": "text/x-python",
   "name": "python",
   "nbconvert_exporter": "python",
   "pygments_lexer": "ipython3",
   "version": "3.8.5"
  }
 },
 "nbformat": 4,
 "nbformat_minor": 5
}
