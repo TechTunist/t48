{
 "cells": [
  {
   "cell_type": "code",
   "execution_count": 1,
   "id": "03ea1e34",
   "metadata": {},
   "outputs": [],
   "source": [
    "import sqlite3"
   ]
  },
  {
   "cell_type": "code",
   "execution_count": 4,
   "id": "6ae43b2b",
   "metadata": {},
   "outputs": [],
   "source": [
    "db = sqlite3.connect('bookbox_jupyter_db')"
   ]
  },
  {
   "cell_type": "code",
   "execution_count": 5,
   "id": "e84d70db",
   "metadata": {},
   "outputs": [],
   "source": [
    "cursor = db.cursor()"
   ]
  },
  {
   "cell_type": "code",
   "execution_count": 6,
   "id": "b184f1ec",
   "metadata": {},
   "outputs": [],
   "source": [
    "# create database\n",
    "cursor.execute('''\n",
    "    CREATE TABLE books(id INTEGER PRIMARY KEY, title CHAR(30), author CHAR(30),\n",
    "                   qty INTEGER(5))\n",
    "''')\n",
    "db.commit()"
   ]
  },
  {
   "cell_type": "code",
   "execution_count": 9,
   "id": "5e99c0b3",
   "metadata": {},
   "outputs": [
    {
     "name": "stdout",
     "output_type": "stream",
     "text": [
      "First book inserted\n"
     ]
    }
   ],
   "source": [
    "id1 = 3001\n",
    "title1 = 'A Tale of Two Cities'\n",
    "author1 = 'Charles Dickens'\n",
    "qty1 = 30\n",
    "\n",
    "# Insert book 1\n",
    "cursor.execute('''INSERT INTO books(id, title, author, qty)\n",
    "                  VALUES(?,?,?,?)''', (id1, title1, author1, qty1))\n",
    "print('First book inserted')"
   ]
  },
  {
   "cell_type": "code",
   "execution_count": 10,
   "id": "83671a08",
   "metadata": {},
   "outputs": [],
   "source": [
    "# check database\n",
    "cursor.execute('''SELECT * FROM books''')\n",
    "books = cursor.fetchall()"
   ]
  },
  {
   "cell_type": "code",
   "execution_count": 11,
   "id": "1234fa8e",
   "metadata": {},
   "outputs": [
    {
     "name": "stdout",
     "output_type": "stream",
     "text": [
      "[(3001, 'A Tale of Two Cities', 'Charles Dickens', 30)]\n"
     ]
    }
   ],
   "source": [
    "print(books)"
   ]
  },
  {
   "cell_type": "code",
   "execution_count": 13,
   "id": "1cc99586",
   "metadata": {},
   "outputs": [
    {
     "name": "stdout",
     "output_type": "stream",
     "text": [
      "First book inserted\n"
     ]
    }
   ],
   "source": [
    "id2 = 3002\n",
    "title2 = \"Harry Potter and the Philospher's Stone\"\n",
    "author2 = 'J.K. Rowling'\n",
    "qty2 = 40\n",
    "\n",
    "# Insert book 2\n",
    "cursor.execute('''INSERT INTO books(id, title, author, qty)\n",
    "                  VALUES(?,?,?,?)''', (id2, title2, author2, qty2))\n",
    "print('Second book inserted')"
   ]
  },
  {
   "cell_type": "code",
   "execution_count": 14,
   "id": "ff2598a3",
   "metadata": {},
   "outputs": [
    {
     "name": "stdout",
     "output_type": "stream",
     "text": [
      "Second book inserted\n"
     ]
    }
   ],
   "source": [
    "id3 = 3003\n",
    "title3 = \"The Lion, the Witch and the Wardrobe\"\n",
    "author3 = 'C.S. Lewis'\n",
    "qty3 = 25\n",
    "\n",
    "# Insert book 2\n",
    "cursor.execute('''INSERT INTO books(id, title, author, qty)\n",
    "                  VALUES(?,?,?,?)''', (id3, title3, author3, qty3))\n",
    "print('Third book inserted')"
   ]
  },
  {
   "cell_type": "code",
   "execution_count": 15,
   "id": "83b293bf",
   "metadata": {
    "scrolled": true
   },
   "outputs": [
    {
     "name": "stdout",
     "output_type": "stream",
     "text": [
      "Fourth book inserted\n"
     ]
    }
   ],
   "source": [
    "id4 = 3004\n",
    "title4 = \"The Lord of the Rings\"\n",
    "author4 = 'J.J.R Tolkein'\n",
    "qty4 = 37\n",
    "\n",
    "# Insert book 2\n",
    "cursor.execute('''INSERT INTO books(id, title, author, qty)\n",
    "                  VALUES(?,?,?,?)''', (id4, title4, author4, qty4))\n",
    "print('Fourth book inserted')"
   ]
  },
  {
   "cell_type": "code",
   "execution_count": 16,
   "id": "94972a6c",
   "metadata": {},
   "outputs": [
    {
     "name": "stdout",
     "output_type": "stream",
     "text": [
      "Fifth book inserted\n"
     ]
    }
   ],
   "source": [
    "id5 = 3005\n",
    "title5 = \"Alice in Wonderland\"\n",
    "author5 = 'Lewis Carrol'\n",
    "qty5 = 12\n",
    "\n",
    "# Insert book 2\n",
    "cursor.execute('''INSERT INTO books(id, title, author, qty)\n",
    "                  VALUES(?,?,?,?)''', (id5, title5, author5, qty5))\n",
    "print('Fifth book inserted')"
   ]
  },
  {
   "cell_type": "code",
   "execution_count": null,
   "id": "02ca22a0",
   "metadata": {},
   "outputs": [],
   "source": []
  }
 ],
 "metadata": {
  "kernelspec": {
   "display_name": "Python 3 (ipykernel)",
   "language": "python",
   "name": "python3"
  },
  "language_info": {
   "codemirror_mode": {
    "name": "ipython",
    "version": 3
   },
   "file_extension": ".py",
   "mimetype": "text/x-python",
   "name": "python",
   "nbconvert_exporter": "python",
   "pygments_lexer": "ipython3",
   "version": "3.10.4"
  }
 },
 "nbformat": 4,
 "nbformat_minor": 5
}
